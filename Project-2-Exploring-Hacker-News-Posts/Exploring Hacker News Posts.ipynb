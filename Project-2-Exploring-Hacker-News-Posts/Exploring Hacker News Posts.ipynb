{
 "cells": [
  {
   "cell_type": "markdown",
   "metadata": {},
   "source": [
    "# Guided Project: Exploring Hacker News Posts\n",
    "\n",
    "<div style=\"text-align: justify\"> In this project, we'll work with a data set of submissions to popular technology site [Hacker News](https://news.ycombinator.com/). Hacker News is a site started by the startup incubator [Y Combinator](https://www.ycombinator.com/), where user-submitted stories (known as \"posts\") are voted and commented upon, similar to reddit. Hacker News is extremely popular in technology and startup circles, and posts that make it to the top of Hacker News' listings can get hundreds of thousands of visitors as a result.</div>\n",
    "<div style=\"text-align: justify\">The dataset we will use can be found [here](https://www.kaggle.com/hacker-news/hacker-news-posts). For the purpose of this project, it has been redacted - the number of rows have been reduced from almost 300000 to 20000 removing the posts with no comments.</div>\n",
    "<div style=\"text-align: justify\">Users submit Ask HN posts to ask the Hacker News community a specific question. Likewise, users submit Show HN posts to show the Hacker News community a project, product, or just generally something interesting. We'll compare these two types of posts to determine the following: </div>\n",
    "\n",
    "- Do Ask HN or Show HN receive more comments on average?\n",
    "- Do posts created at a certain time receive more comments on average?"
   ]
  },
  {
   "cell_type": "code",
   "execution_count": 6,
   "metadata": {
    "collapsed": true
   },
   "outputs": [],
   "source": [
    "import csv"
   ]
  },
  {
   "cell_type": "code",
   "execution_count": 7,
   "metadata": {
    "collapsed": false
   },
   "outputs": [
    {
     "data": {
      "text/plain": [
       "[['id', 'title', 'url', 'num_points', 'num_comments', 'author', 'created_at'],\n",
       " ['12224879',\n",
       "  'Interactive Dynamic Video',\n",
       "  'http://www.interactivedynamicvideo.com/',\n",
       "  '386',\n",
       "  '52',\n",
       "  'ne0phyte',\n",
       "  '8/4/2016 11:52'],\n",
       " ['10975351',\n",
       "  'How to Use Open Source and Shut the Fuck Up at the Same Time',\n",
       "  'http://hueniverse.com/2016/01/26/how-to-use-open-source-and-shut-the-fuck-up-at-the-same-time/',\n",
       "  '39',\n",
       "  '10',\n",
       "  'josep2',\n",
       "  '1/26/2016 19:30'],\n",
       " ['11964716',\n",
       "  \"Florida DJs May Face Felony for April Fools' Water Joke\",\n",
       "  'http://www.thewire.com/entertainment/2013/04/florida-djs-april-fools-water-joke/63798/',\n",
       "  '2',\n",
       "  '1',\n",
       "  'vezycash',\n",
       "  '6/23/2016 22:20'],\n",
       " ['11919867',\n",
       "  'Technology ventures: From Idea to Enterprise',\n",
       "  'https://www.amazon.com/Technology-Ventures-Enterprise-Thomas-Byers/dp/0073523429',\n",
       "  '3',\n",
       "  '1',\n",
       "  'hswarna',\n",
       "  '6/17/2016 0:01']]"
      ]
     },
     "execution_count": 7,
     "metadata": {},
     "output_type": "execute_result"
    }
   ],
   "source": [
    "#Let's start by reading in the dataset and displaying the first five rows:\n",
    "\n",
    "opened = open('hacker_news.csv')\n",
    "read = csv.reader(opened)\n",
    "hn = list(read)\n",
    "\n",
    "hn[:5]"
   ]
  },
  {
   "cell_type": "code",
   "execution_count": 8,
   "metadata": {
    "collapsed": false
   },
   "outputs": [
    {
     "data": {
      "text/plain": [
       "['id', 'title', 'url', 'num_points', 'num_comments', 'author', 'created_at']"
      ]
     },
     "execution_count": 8,
     "metadata": {},
     "output_type": "execute_result"
    }
   ],
   "source": [
    "#Let's remove the header from the list\n",
    "\n",
    "headers = hn[0]\n",
    "hn = hn[1:]\n",
    "headers"
   ]
  },
  {
   "cell_type": "code",
   "execution_count": 48,
   "metadata": {
    "collapsed": false
   },
   "outputs": [
    {
     "name": "stdout",
     "output_type": "stream",
     "text": [
      "[['12224879', 'Interactive Dynamic Video', 'http://www.interactivedynamicvideo.com/', '386', '52', 'ne0phyte', '8/4/2016 11:52'], ['10975351', 'How to Use Open Source and Shut the Fuck Up at the Same Time', 'http://hueniverse.com/2016/01/26/how-to-use-open-source-and-shut-the-fuck-up-at-the-same-time/', '39', '10', 'josep2', '1/26/2016 19:30'], ['11964716', \"Florida DJs May Face Felony for April Fools' Water Joke\", 'http://www.thewire.com/entertainment/2013/04/florida-djs-april-fools-water-joke/63798/', '2', '1', 'vezycash', '6/23/2016 22:20'], ['11919867', 'Technology ventures: From Idea to Enterprise', 'https://www.amazon.com/Technology-Ventures-Enterprise-Thomas-Byers/dp/0073523429', '3', '1', 'hswarna', '6/17/2016 0:01'], ['10301696', 'Note by Note: The Making of Steinway L1037 (2007)', 'http://www.nytimes.com/2007/11/07/movies/07stein.html?_r=0', '8', '2', 'walterbell', '9/30/2015 4:12']]\n"
     ]
    }
   ],
   "source": [
    "print(hn[:5])"
   ]
  },
  {
   "cell_type": "markdown",
   "metadata": {},
   "source": [
    "## Filtering the data\n",
    "Since we're only concerned with post titles beginning with Ask HN or Show HN, we'll create new lists of lists containing just the data for those titles."
   ]
  },
  {
   "cell_type": "code",
   "execution_count": 10,
   "metadata": {
    "collapsed": true
   },
   "outputs": [],
   "source": [
    "ask_posts = []\n",
    "show_posts = []\n",
    "other_posts = []\n",
    "\n",
    "for post in hn:\n",
    "    title = post[1].lower()\n",
    "    if title.startswith('ask hn'):\n",
    "        ask_posts.append(post)\n",
    "    elif title.startswith('show hn'):\n",
    "        show_posts.append(post)\n",
    "    else:\n",
    "        other_posts.append(post)\n"
   ]
  },
  {
   "cell_type": "code",
   "execution_count": 11,
   "metadata": {
    "collapsed": false
   },
   "outputs": [
    {
     "name": "stdout",
     "output_type": "stream",
     "text": [
      "Number of Ask posts: 1744\n",
      "Number of Show posts: 1162\n",
      "Number of Other posts: 17194\n"
     ]
    }
   ],
   "source": [
    "print('Number of Ask posts: {}'.format(len(ask_posts)))\n",
    "print('Number of Show posts: {}'.format(len(show_posts)))\n",
    "print('Number of Other posts: {}'.format(len(other_posts)))"
   ]
  },
  {
   "cell_type": "markdown",
   "metadata": {},
   "source": [
    "## Average number of comments\n",
    "Now, let's determine if ask posts or show posts receive more comments on average."
   ]
  },
  {
   "cell_type": "code",
   "execution_count": 74,
   "metadata": {
    "collapsed": false
   },
   "outputs": [
    {
     "name": "stdout",
     "output_type": "stream",
     "text": [
      "The average number of comments on ask posts: 14.04\n",
      "The average number of comments on show posts: 10.32\n",
      "The average number of comments on other posts: 26.87\n"
     ]
    }
   ],
   "source": [
    "#First we will find the average number of comments:\n",
    "\n",
    "def avg_comments(rows):\n",
    "    total_comments = 0\n",
    "    for post in rows:\n",
    "        comments = int(post[4])\n",
    "        total_comments += comments\n",
    "    \n",
    "    return total_comments/len(rows)\n",
    "\n",
    "avg_ask_comments = avg_comments(ask_posts)\n",
    "avg_show_comments = avg_comments(show_posts)\n",
    "avg_other_comments = avg_comments(other_posts)\n",
    "print(\"The average number of comments on ask posts: {:.2f}\".format(avg_ask_comments))\n",
    "print(\"The average number of comments on show posts: {:.2f}\".format(avg_show_comments))\n",
    "print(\"The average number of comments on other posts: {:.2f}\".format(avg_other_comments))"
   ]
  },
  {
   "cell_type": "markdown",
   "metadata": {},
   "source": [
    "<div style=\"text-align: justify\">On average, the Ask posts receive more comments than the Show comments. Since ask posts are more likely to receive comments, we'll focus our remaining analysis just on these posts.</div>\n",
    "\n",
    "## Ask Posts and Comments by Hour Created\n",
    "\n",
    "<div style=\"text-align: justify\">\n",
    "Next, we'll determine if ask posts created at a certain time are more likely to attract comments. To do that, we will:</div>\n",
    "\n",
    "- Calculate the amount of ask posts created in each hour of the day, along with the number of comments received.\n",
    "- Calculate the average number of comments ask posts receive by hour created."
   ]
  },
  {
   "cell_type": "code",
   "execution_count": 16,
   "metadata": {
    "collapsed": true
   },
   "outputs": [],
   "source": [
    "import datetime as dt"
   ]
  },
  {
   "cell_type": "code",
   "execution_count": 17,
   "metadata": {
    "collapsed": true
   },
   "outputs": [],
   "source": [
    "#First we will extract the created at and comments columns for each post and \n",
    "#add them to a new list\n",
    "\n",
    "result_list = []\n",
    "\n",
    "for post in ask_posts:\n",
    "    result_list.append([post[6], int(post[4])])"
   ]
  },
  {
   "cell_type": "code",
   "execution_count": 24,
   "metadata": {
    "collapsed": false
   },
   "outputs": [],
   "source": [
    "#Next, we will count the number of posts per hour\n",
    "#We will also add up the number of comments per hour\n",
    "\n",
    "counts_by_hour = {}\n",
    "comments_by_hour = {}\n",
    "\n",
    "for row in result_list:\n",
    "    created = dt.datetime.strptime(row[0], \"%m/%d/%Y %H:%M\")\n",
    "    hour = created.hour\n",
    "    if hour not in counts_by_hour.keys():\n",
    "        counts_by_hour[hour] = 1\n",
    "    else:\n",
    "        counts_by_hour[hour] += 1\n",
    "    if hour not in comments_by_hour.keys():\n",
    "        comments_by_hour[hour] = row[1]\n",
    "    else:\n",
    "        comments_by_hour[hour] += row[1]"
   ]
  },
  {
   "cell_type": "code",
   "execution_count": 34,
   "metadata": {
    "collapsed": false
   },
   "outputs": [
    {
     "name": "stdout",
     "output_type": "stream",
     "text": [
      "[[0, 8.127272727272727], [1, 11.383333333333333], [2, 23.810344827586206], [3, 7.796296296296297], [4, 7.170212765957447], [5, 10.08695652173913], [6, 9.022727272727273], [7, 7.852941176470588], [8, 10.25], [9, 5.5777777777777775], [10, 13.440677966101696], [11, 11.051724137931034], [12, 9.41095890410959], [13, 14.741176470588234], [14, 13.233644859813085], [15, 38.5948275862069], [16, 16.796296296296298], [17, 11.46], [18, 13.20183486238532], [19, 10.8], [20, 21.525], [21, 16.009174311926607], [22, 6.746478873239437], [23, 7.985294117647059]]\n"
     ]
    }
   ],
   "source": [
    "#Next, we will calculate the average number of comments for posts created \n",
    "#during each hour of the day\n",
    "\n",
    "avg_by_hour = []\n",
    "\n",
    "for hour in counts_by_hour.keys():\n",
    "    avg_by_hour.append([hour, comments_by_hour[hour]/counts_by_hour[hour]])\n",
    "\n",
    "print(avg_by_hour)"
   ]
  },
  {
   "cell_type": "markdown",
   "metadata": {},
   "source": [
    "Although we now have the results we need, this format makes it hard to identify the hours with the highest values. Let's sort the list of lists and print the five highest values in a format that's easier to read."
   ]
  },
  {
   "cell_type": "code",
   "execution_count": 33,
   "metadata": {
    "collapsed": false
   },
   "outputs": [
    {
     "name": "stdout",
     "output_type": "stream",
     "text": [
      "[[8.127272727272727, 0], [11.383333333333333, 1], [23.810344827586206, 2], [7.796296296296297, 3], [7.170212765957447, 4], [10.08695652173913, 5], [9.022727272727273, 6], [7.852941176470588, 7], [10.25, 8], [5.5777777777777775, 9], [13.440677966101696, 10], [11.051724137931034, 11], [9.41095890410959, 12], [14.741176470588234, 13], [13.233644859813085, 14], [38.5948275862069, 15], [16.796296296296298, 16], [11.46, 17], [13.20183486238532, 18], [10.8, 19], [21.525, 20], [16.009174311926607, 21], [6.746478873239437, 22], [7.985294117647059, 23]]\n"
     ]
    }
   ],
   "source": [
    "swap_avg_by_hour = []\n",
    "for row in avg_by_hour:\n",
    "    swap_avg_by_hour.append([row[1], row[0]])\n",
    "    \n",
    "print(swap_avg_by_hour)"
   ]
  },
  {
   "cell_type": "code",
   "execution_count": 35,
   "metadata": {
    "collapsed": true
   },
   "outputs": [],
   "source": [
    "#Let's sort the list\n",
    "\n",
    "sorted_swap = sorted(swap_avg_by_hour, reverse = True)"
   ]
  },
  {
   "cell_type": "code",
   "execution_count": 43,
   "metadata": {
    "collapsed": false
   },
   "outputs": [
    {
     "name": "stdout",
     "output_type": "stream",
     "text": [
      "Top 5 Hours for Ask Posts Comments:\n",
      "15:00: 38.59 average comments per post\n",
      "02:00: 23.81 average comments per post\n",
      "20:00: 21.52 average comments per post\n",
      "16:00: 16.80 average comments per post\n",
      "21:00: 16.01 average comments per post\n"
     ]
    }
   ],
   "source": [
    "print(\"Top 5 Hours for Ask Posts Comments:\")\n",
    "for hour in sorted_swap[:5]:\n",
    "    h = dt.datetime.strptime(str(hour[1]), \"%H\")\n",
    "    print(\"{}: {:.2f} average comments per post\".format(h.strftime(\"%H:%M\"), hour[0]))"
   ]
  },
  {
   "cell_type": "markdown",
   "metadata": {},
   "source": [
    "Above we see the top five best times to create a post on Hacker News and get a comment. The times are in Eastern Time in the US."
   ]
  },
  {
   "cell_type": "code",
   "execution_count": 62,
   "metadata": {
    "collapsed": false
   },
   "outputs": [],
   "source": [
    "#let's create a function which users can use to calculate\n",
    "#the best time to post in their time zone\n",
    "\n",
    "from datetime import timedelta\n",
    "\n",
    "def time_zone(x, tz_name=''):\n",
    "    \"\"\"\n",
    "    Takes in an integer, positive or negative, \n",
    "    depending on the time difference from Eastern US time,\n",
    "    an optional string for the name of the time zone\n",
    "    and calculates the best time to post in the time zone\n",
    "    \"\"\"\n",
    "    \n",
    "    print(\"Top 5 Hours for Ask Posts Comments in time zone {}:\".format(tz_name))\n",
    "    for hour in sorted_swap[:5]:\n",
    "        h = dt.datetime.strptime(str(hour[1]), \"%H\")\n",
    "        tz_time = h + timedelta(hours=x)\n",
    "        print(\"{}: {:.2f} average comments per post\".format(tz_time.strftime(\"%H:%M\"), hour[0]))"
   ]
  },
  {
   "cell_type": "code",
   "execution_count": 64,
   "metadata": {
    "collapsed": false
   },
   "outputs": [
    {
     "name": "stdout",
     "output_type": "stream",
     "text": [
      "Top 5 Hours for Ask Posts Comments in time zone Pacific time:\n",
      "12:00: 38.59 average comments per post\n",
      "23:00: 23.81 average comments per post\n",
      "17:00: 21.52 average comments per post\n",
      "13:00: 16.80 average comments per post\n",
      "18:00: 16.01 average comments per post\n"
     ]
    }
   ],
   "source": [
    "time_zone(-3, 'Pacific time')"
   ]
  },
  {
   "cell_type": "markdown",
   "metadata": {
    "collapsed": true
   },
   "source": [
    "## Conclusion\n",
    "\n",
    "In this guided project, we worked with data from posts on the website Hacker News. We isolated the number of Ask Posts and Show Posts. We found out that on average Ask posts receive more comment. We used that to find out during which hours a user should post in order to receive more comments. Next steps to consider:\n",
    "\n",
    "- Determine if show or ask posts receive more points on average.\n",
    "- Determine if posts created at a certain time are more likely to receive more points.\n",
    "- Compare your results to the average number of comments and points other posts receive.\n",
    "\n",
    "## Next steps"
   ]
  },
  {
   "cell_type": "code",
   "execution_count": 71,
   "metadata": {
    "collapsed": false
   },
   "outputs": [
    {
     "name": "stdout",
     "output_type": "stream",
     "text": [
      "On average, Ask posts receive 15.06 points.\n",
      "On average, Show posts receive 27.56 points.\n",
      "On average, Other posts receive 55.41 points.\n"
     ]
    }
   ],
   "source": [
    "#Determine if show or ask posts receive more points on average\n",
    "\n",
    "def points_on_average(rows):\n",
    "    total_points = 0\n",
    "    for row in rows:\n",
    "        points = int(row[3])\n",
    "        total_points += points\n",
    "    return total_points/len(rows)\n",
    "\n",
    "ask_avg_points = points_on_average(ask_posts)\n",
    "show_avg_points = points_on_average(show_posts)\n",
    "other_avg_points = points_on_average(other_posts)\n",
    "\n",
    "print(\"On average, Ask posts receive {:.2f} points.\".format(ask_avg_points))\n",
    "print(\"On average, Show posts receive {:.2f} points.\".format(show_avg_points))\n",
    "print(\"On average, Other posts receive {:.2f} points.\".format(other_avg_points))"
   ]
  },
  {
   "cell_type": "code",
   "execution_count": 75,
   "metadata": {
    "collapsed": true
   },
   "outputs": [],
   "source": [
    "#Determine if posts created at a certain time \n",
    "#are more likely to receive more points\n",
    "\n",
    "hour_count = {}\n",
    "points_by_hour = {}\n",
    "\n",
    "for post in hn:\n",
    "    created = dt.datetime.strptime(post[-1], \"%m/%d/%Y %H:%M\")\n",
    "    hour = created.hour\n",
    "    points = int(post[3])\n",
    "    \n",
    "    if hour not in hour_count.keys():\n",
    "        hour_count[hour] = 1\n",
    "    else:\n",
    "        hour_count[hour] += 1\n",
    "    \n",
    "    if hour not in points_by_hour.keys():\n",
    "        points_by_hour[hour] = points\n",
    "    else:\n",
    "        points_by_hour[hour] += points\n",
    "    "
   ]
  },
  {
   "cell_type": "code",
   "execution_count": 85,
   "metadata": {
    "collapsed": false
   },
   "outputs": [
    {
     "name": "stdout",
     "output_type": "stream",
     "text": [
      "On average you are more likely to receive more points if you post at:\n",
      "13:00: 56.17 points per post\n",
      "15:00: 55.65 points per post\n",
      "10:00: 54.71 points per post\n",
      "14:00: 54.44 points per post\n",
      "19:00: 54.17 points per post\n"
     ]
    }
   ],
   "source": [
    "average_points_by_hour = []\n",
    "\n",
    "for hour in hour_count.keys():\n",
    "    average_points_by_hour.append([hour, points_by_hour[hour]/hour_count[hour]])\n",
    "    \n",
    "swap_points = []\n",
    "for row in average_points_by_hour:\n",
    "    swap_points.append([row[1], row[0]])\n",
    "    \n",
    "sorted_points = sorted(swap_points, reverse=True)\n",
    "\n",
    "print(\"On average you are more likely to receive more points if you post at:\")\n",
    "for row in sorted_points[:5]:\n",
    "    h = dt.datetime.strptime(str(row[1]), \"%H\")\n",
    "    print(\"{}: {:.2f} points per post\".format(h.strftime(\"%H:%M\"), row[0]))\n",
    "    "
   ]
  },
  {
   "cell_type": "code",
   "execution_count": null,
   "metadata": {
    "collapsed": true
   },
   "outputs": [],
   "source": []
  }
 ],
 "metadata": {
  "kernelspec": {
   "display_name": "Python 3",
   "language": "python",
   "name": "python3"
  },
  "language_info": {
   "codemirror_mode": {
    "name": "ipython",
    "version": 3
   },
   "file_extension": ".py",
   "mimetype": "text/x-python",
   "name": "python",
   "nbconvert_exporter": "python",
   "pygments_lexer": "ipython3",
   "version": "3.4.3"
  }
 },
 "nbformat": 4,
 "nbformat_minor": 4
}
