{
 "cells": [
  {
   "cell_type": "markdown",
   "metadata": {},
   "source": [
    "# Mobile App for Lottery Addiction\n",
    "\n",
    "In this guided project we will focus on to the development of a mobile app that is meant to help lottery addicts better estimate their chances of winning.\n",
    "\n",
    "Many people start playing the lottery for fun, but for some this activity turns into a habit which eventually escalates into addiction.\n",
    "\n",
    "A medical institute that aims to prevent and treat gambling addictions wants to build a dedicated mobile app to help lottery addicts better estimate their chances of winning. The institute has a team of engineers that will build the app, but they need us to create the logical core of the app and calculate probabilities.\n",
    "\n",
    "For the first version of the app, we will focus on the [6/49 lottery](https://en.wikipedia.org/wiki/Lotto_6/49) and build functions that enable users to answer questions like:\n",
    "\n",
    "- What is the probability of winning the big prize with a single ticket?\n",
    "- What is the probability of winning the big prize if we play 40 different tickets (or any other number)?\n",
    "- What is the probability of having at least five (or four, or three, or two) winning numbers on a single ticket?\n",
    "\n",
    "The institute also wants us to consider historical data coming from the national 6/49 lottery game in Canada. The [data set](https://www.kaggle.com/datascienceai/lottery-dataset) has data for 3,665 drawings, dating from 1982 to 2018.\n",
    "\n",
    "## Core Functions\n",
    "\n",
    "Our goal is to write code that can enable users to answer probability questions about playing the lottery. Throughout the project, we'll need to calculate repeatedly probabilities and combinations. As a consequence, we'll start by writing two functions that we will use often:\n",
    "\n",
    "- A function that calculates factorials; and\n",
    "- A function that calculates combinations.\n",
    "\n",
    "In the 6/49 lottery, six numbers are drawn from a set of 49 numbers that range from 1 to 49. The drawing is done *without* replacement, which means once a number is drawn, it's not put back in the set."
   ]
  },
  {
   "cell_type": "code",
   "execution_count": 26,
   "metadata": {},
   "outputs": [],
   "source": [
    "import pandas as pd"
   ]
  },
  {
   "cell_type": "code",
   "execution_count": 27,
   "metadata": {},
   "outputs": [],
   "source": [
    "#Let's start by writing a function which calculates factorials\n",
    "\n",
    "def factorial(n):    \n",
    "    \"\"\" Args:\n",
    "            n (int)\n",
    "        Output:\n",
    "            the factorial of that number n\n",
    "    \"\"\"\n",
    "    \n",
    "    result = 1\n",
    "    for x in range(n, 1, -1):\n",
    "        result *= x\n",
    "    return result"
   ]
  },
  {
   "cell_type": "code",
   "execution_count": 28,
   "metadata": {},
   "outputs": [],
   "source": [
    "#Next, we will write a function which calculates combinations\n",
    "\n",
    "def combinations(n, k):  \n",
    "    \"\"\"Args:\n",
    "        n (int)\n",
    "        k (int)\n",
    "    Output:\n",
    "        the number of combinations when we take only k objects from a group of n objects.\n",
    "    \"\"\"\n",
    "    \n",
    "    return factorial(n)/(factorial(k)*factorial(n-k))"
   ]
  },
  {
   "cell_type": "markdown",
   "metadata": {},
   "source": [
    "## One-ticket probability\n",
    "\n",
    "In the 6/49 lottery, six numbers are drawn from a set of 49 numbers that range from 1 to 49. A player wins the big prize if the six numbers on their tickets match all the six numbers drawn. If a player has a ticket with the numbers {13, 22, 24, 27, 42, 44}, he only wins the big prize if the numbers drawn are {13, 22, 24, 27, 42, 44}. If only one number differs, he does not win.\n",
    "\n",
    "For the first version of the app, we want players to be able to calculate the probability of winning the big prize with the various numbers they play on a single ticket (for each ticket a player chooses six numbers out of 49). So, we will start by building a function that calculates the probability of winning the big prize for any given ticket.\n",
    "\n",
    "We discussed with the engineering team of the medical institute, and they told us we need to be aware of the following details when we write the function:\n",
    "\n",
    "- Inside the app, the user inputs six different numbers from 1 to 49.\n",
    "- Under the hood, the six numbers will come as a Python list, which will serve as the single input to our function.\n",
    "- The engineering team wants the function to print the probability value in a friendly way — in a way that people without any probability training are able to understand."
   ]
  },
  {
   "cell_type": "code",
   "execution_count": 29,
   "metadata": {},
   "outputs": [],
   "source": [
    "def one_ticket_probability(six):\n",
    "    \"\"\"Args:\n",
    "            six (list) - a list of six numbers\n",
    "        Output:\n",
    "            the probability of winning\n",
    "    \"\"\"\n",
    "    \n",
    "    total_combinations = combinations(49, 6)\n",
    "    probability = (1/total_combinations)*100\n",
    "    print(\"The probability of winning the 6/49 lottery with numbers: {} is:\\n{:.7f}%. This is a 1 in {:,} chance.\"\n",
    "          .format(six, probability, int(total_combinations)))"
   ]
  },
  {
   "cell_type": "code",
   "execution_count": 30,
   "metadata": {},
   "outputs": [
    {
     "name": "stdout",
     "output_type": "stream",
     "text": [
      "The probability of winning the 6/49 lottery with numbers: [3, 29, 42, 11, 9, 5] is:\n",
      "0.0000072%. This is a 1 in 13,983,816 chance.\n"
     ]
    }
   ],
   "source": [
    "one_ticket_probability([3,29, 42, 11, 9, 5])"
   ]
  },
  {
   "cell_type": "code",
   "execution_count": 31,
   "metadata": {},
   "outputs": [
    {
     "name": "stdout",
     "output_type": "stream",
     "text": [
      "The probability of winning the 6/49 lottery with numbers: [8, 21, 45, 3, 2, 49] is:\n",
      "0.0000072%. This is a 1 in 13,983,816 chance.\n"
     ]
    }
   ],
   "source": [
    "one_ticket_probability([8, 21, 45, 3, 2, 49])"
   ]
  },
  {
   "cell_type": "markdown",
   "metadata": {},
   "source": [
    "Above, we wrote a function which calculates the probability of winning if one ticket is played.\n",
    "\n",
    "## Historical Data Check for Canada Lottery\n",
    "\n",
    "Users should also be able to compare their ticket against the historical lottery data in Canada and determine whether they would have ever won by now.\n",
    "\n",
    "Let's now focus on exploring the historical data coming from the Canada 6/49 lottery. The data set can be downloaded from [Kaggle](https://www.kaggle.com/datascienceai/lottery-dataset).\n",
    "\n",
    "The data set contains historical data for 3,665 drawings (each row shows data for a single drawing), dating from 1982 to 2018. For each drawing, we can find the six numbers drawn in the following six columns:\n",
    "\n",
    "- `NUMBER DRAWN 1`\n",
    "- `NUMBER DRAWN 2`\n",
    "- `NUMBER DRAWN 3`\n",
    "- `NUMBER DRAWN 4`\n",
    "- `NUMBER DRAWN 5`\n",
    "- `NUMBER DRAWN 6`"
   ]
  },
  {
   "cell_type": "code",
   "execution_count": 32,
   "metadata": {},
   "outputs": [
    {
     "data": {
      "text/plain": [
       "(3665, 11)"
      ]
     },
     "execution_count": 32,
     "metadata": {},
     "output_type": "execute_result"
    }
   ],
   "source": [
    "#Let's read in the data\n",
    "lottery = pd.read_csv('649.csv')\n",
    "\n",
    "#Let's see the number of rows and columns\n",
    "lottery.shape"
   ]
  },
  {
   "cell_type": "code",
   "execution_count": 33,
   "metadata": {},
   "outputs": [
    {
     "data": {
      "text/html": [
       "<div>\n",
       "<style scoped>\n",
       "    .dataframe tbody tr th:only-of-type {\n",
       "        vertical-align: middle;\n",
       "    }\n",
       "\n",
       "    .dataframe tbody tr th {\n",
       "        vertical-align: top;\n",
       "    }\n",
       "\n",
       "    .dataframe thead th {\n",
       "        text-align: right;\n",
       "    }\n",
       "</style>\n",
       "<table border=\"1\" class=\"dataframe\">\n",
       "  <thead>\n",
       "    <tr style=\"text-align: right;\">\n",
       "      <th></th>\n",
       "      <th>PRODUCT</th>\n",
       "      <th>DRAW NUMBER</th>\n",
       "      <th>SEQUENCE NUMBER</th>\n",
       "      <th>DRAW DATE</th>\n",
       "      <th>NUMBER DRAWN 1</th>\n",
       "      <th>NUMBER DRAWN 2</th>\n",
       "      <th>NUMBER DRAWN 3</th>\n",
       "      <th>NUMBER DRAWN 4</th>\n",
       "      <th>NUMBER DRAWN 5</th>\n",
       "      <th>NUMBER DRAWN 6</th>\n",
       "      <th>BONUS NUMBER</th>\n",
       "    </tr>\n",
       "  </thead>\n",
       "  <tbody>\n",
       "    <tr>\n",
       "      <th>0</th>\n",
       "      <td>649</td>\n",
       "      <td>1</td>\n",
       "      <td>0</td>\n",
       "      <td>6/12/1982</td>\n",
       "      <td>3</td>\n",
       "      <td>11</td>\n",
       "      <td>12</td>\n",
       "      <td>14</td>\n",
       "      <td>41</td>\n",
       "      <td>43</td>\n",
       "      <td>13</td>\n",
       "    </tr>\n",
       "    <tr>\n",
       "      <th>1</th>\n",
       "      <td>649</td>\n",
       "      <td>2</td>\n",
       "      <td>0</td>\n",
       "      <td>6/19/1982</td>\n",
       "      <td>8</td>\n",
       "      <td>33</td>\n",
       "      <td>36</td>\n",
       "      <td>37</td>\n",
       "      <td>39</td>\n",
       "      <td>41</td>\n",
       "      <td>9</td>\n",
       "    </tr>\n",
       "    <tr>\n",
       "      <th>2</th>\n",
       "      <td>649</td>\n",
       "      <td>3</td>\n",
       "      <td>0</td>\n",
       "      <td>6/26/1982</td>\n",
       "      <td>1</td>\n",
       "      <td>6</td>\n",
       "      <td>23</td>\n",
       "      <td>24</td>\n",
       "      <td>27</td>\n",
       "      <td>39</td>\n",
       "      <td>34</td>\n",
       "    </tr>\n",
       "  </tbody>\n",
       "</table>\n",
       "</div>"
      ],
      "text/plain": [
       "   PRODUCT  DRAW NUMBER  SEQUENCE NUMBER  DRAW DATE  NUMBER DRAWN 1  \\\n",
       "0      649            1                0  6/12/1982               3   \n",
       "1      649            2                0  6/19/1982               8   \n",
       "2      649            3                0  6/26/1982               1   \n",
       "\n",
       "   NUMBER DRAWN 2  NUMBER DRAWN 3  NUMBER DRAWN 4  NUMBER DRAWN 5  \\\n",
       "0              11              12              14              41   \n",
       "1              33              36              37              39   \n",
       "2               6              23              24              27   \n",
       "\n",
       "   NUMBER DRAWN 6  BONUS NUMBER  \n",
       "0              43            13  \n",
       "1              41             9  \n",
       "2              39            34  "
      ]
     },
     "execution_count": 33,
     "metadata": {},
     "output_type": "execute_result"
    }
   ],
   "source": [
    "lottery.head(3)"
   ]
  },
  {
   "cell_type": "code",
   "execution_count": 34,
   "metadata": {},
   "outputs": [
    {
     "data": {
      "text/html": [
       "<div>\n",
       "<style scoped>\n",
       "    .dataframe tbody tr th:only-of-type {\n",
       "        vertical-align: middle;\n",
       "    }\n",
       "\n",
       "    .dataframe tbody tr th {\n",
       "        vertical-align: top;\n",
       "    }\n",
       "\n",
       "    .dataframe thead th {\n",
       "        text-align: right;\n",
       "    }\n",
       "</style>\n",
       "<table border=\"1\" class=\"dataframe\">\n",
       "  <thead>\n",
       "    <tr style=\"text-align: right;\">\n",
       "      <th></th>\n",
       "      <th>PRODUCT</th>\n",
       "      <th>DRAW NUMBER</th>\n",
       "      <th>SEQUENCE NUMBER</th>\n",
       "      <th>DRAW DATE</th>\n",
       "      <th>NUMBER DRAWN 1</th>\n",
       "      <th>NUMBER DRAWN 2</th>\n",
       "      <th>NUMBER DRAWN 3</th>\n",
       "      <th>NUMBER DRAWN 4</th>\n",
       "      <th>NUMBER DRAWN 5</th>\n",
       "      <th>NUMBER DRAWN 6</th>\n",
       "      <th>BONUS NUMBER</th>\n",
       "    </tr>\n",
       "  </thead>\n",
       "  <tbody>\n",
       "    <tr>\n",
       "      <th>3662</th>\n",
       "      <td>649</td>\n",
       "      <td>3589</td>\n",
       "      <td>0</td>\n",
       "      <td>6/13/2018</td>\n",
       "      <td>6</td>\n",
       "      <td>22</td>\n",
       "      <td>24</td>\n",
       "      <td>31</td>\n",
       "      <td>32</td>\n",
       "      <td>34</td>\n",
       "      <td>16</td>\n",
       "    </tr>\n",
       "    <tr>\n",
       "      <th>3663</th>\n",
       "      <td>649</td>\n",
       "      <td>3590</td>\n",
       "      <td>0</td>\n",
       "      <td>6/16/2018</td>\n",
       "      <td>2</td>\n",
       "      <td>15</td>\n",
       "      <td>21</td>\n",
       "      <td>31</td>\n",
       "      <td>38</td>\n",
       "      <td>49</td>\n",
       "      <td>8</td>\n",
       "    </tr>\n",
       "    <tr>\n",
       "      <th>3664</th>\n",
       "      <td>649</td>\n",
       "      <td>3591</td>\n",
       "      <td>0</td>\n",
       "      <td>6/20/2018</td>\n",
       "      <td>14</td>\n",
       "      <td>24</td>\n",
       "      <td>31</td>\n",
       "      <td>35</td>\n",
       "      <td>37</td>\n",
       "      <td>48</td>\n",
       "      <td>17</td>\n",
       "    </tr>\n",
       "  </tbody>\n",
       "</table>\n",
       "</div>"
      ],
      "text/plain": [
       "      PRODUCT  DRAW NUMBER  SEQUENCE NUMBER  DRAW DATE  NUMBER DRAWN 1  \\\n",
       "3662      649         3589                0  6/13/2018               6   \n",
       "3663      649         3590                0  6/16/2018               2   \n",
       "3664      649         3591                0  6/20/2018              14   \n",
       "\n",
       "      NUMBER DRAWN 2  NUMBER DRAWN 3  NUMBER DRAWN 4  NUMBER DRAWN 5  \\\n",
       "3662              22              24              31              32   \n",
       "3663              15              21              31              38   \n",
       "3664              24              31              35              37   \n",
       "\n",
       "      NUMBER DRAWN 6  BONUS NUMBER  \n",
       "3662              34            16  \n",
       "3663              49             8  \n",
       "3664              48            17  "
      ]
     },
     "execution_count": 34,
     "metadata": {},
     "output_type": "execute_result"
    }
   ],
   "source": [
    "lottery.tail(3)"
   ]
  },
  {
   "cell_type": "markdown",
   "metadata": {},
   "source": [
    "## Function for Historical Data Check\n",
    "\n",
    "Now that we have opened and explored the Canada lottery data set, we will write a function that will enable users to compare their ticket against the historical lottery data in Canada and determine whether they would have ever won by now.\n",
    "\n",
    "The engineering team told us that we need to be aware of the following details:\n",
    "\n",
    "- Inside the app, the user inputs six different numbers from 1 to 49.\n",
    "- Under the hood, the six numbers will come as a Python list and serve as an input to our function.\n",
    "- The engineering team wants us to write a function that prints:\n",
    "    - the number of times the combination selected occurred in the Canada data set; and\n",
    "    - the probability of winning the big prize in the next drawing with that combination."
   ]
  },
  {
   "cell_type": "code",
   "execution_count": 35,
   "metadata": {},
   "outputs": [
    {
     "data": {
      "text/plain": [
       "0    {3, 41, 11, 12, 43, 14}\n",
       "1    {33, 36, 37, 39, 8, 41}\n",
       "2     {1, 6, 39, 23, 24, 27}\n",
       "3     {3, 9, 10, 43, 13, 20}\n",
       "4    {34, 5, 14, 47, 21, 31}\n",
       "dtype: object"
      ]
     },
     "execution_count": 35,
     "metadata": {},
     "output_type": "execute_result"
    }
   ],
   "source": [
    "def extract_numbers(row):\n",
    "    \"\"\"Args:\n",
    "            row - dataframe row\n",
    "        Output:\n",
    "            a set containing all the six winning numbers\n",
    "    \"\"\"\n",
    "    \n",
    "    row = row[4:10]\n",
    "    return set(row.values)\n",
    "\n",
    "winning_numbers = lottery.apply(extract_numbers, axis=1)\n",
    "\n",
    "winning_numbers.head()"
   ]
  },
  {
   "cell_type": "code",
   "execution_count": 36,
   "metadata": {},
   "outputs": [],
   "source": [
    "def check_historical_occurence(user_nums, winning_numbers):\n",
    "    \"\"\"Args:\n",
    "            user_nums (list) - containing the user numbers\n",
    "            winning_numbers (pd Series) - containing sets with the winning numbers\n",
    "        Returns:\n",
    "            how many times the user_nums combination has won the lottery\n",
    "    \"\"\"\n",
    "    \n",
    "    \n",
    "    user_nums_set = set(user_nums)\n",
    "    wins = winning_numbers == user_nums_set\n",
    "    times_won = wins.sum()\n",
    "    \n",
    "    if times_won == 0:\n",
    "        print(\"The combination {} has never won the Canadian 6/49 lottery between 1982 and 2018.\"\n",
    "              .format(user_nums))\n",
    "        one_ticket_probability(user_nums)\n",
    "    else:\n",
    "        print(\"The combination {} has won the Canadian 6/49 lottery {} times between 1982 and 2018.\".format(user_nums, times_won))\n",
    "        one_ticket_probability(user_nums)"
   ]
  },
  {
   "cell_type": "code",
   "execution_count": 37,
   "metadata": {},
   "outputs": [
    {
     "name": "stdout",
     "output_type": "stream",
     "text": [
      "The combination [8, 21, 45, 3, 2, 49] has never won the Canadian 6/49 lottery between 1982 and 2018.\n",
      "The probability of winning the 6/49 lottery with numbers: [8, 21, 45, 3, 2, 49] is:\n",
      "0.0000072%. This is a 1 in 13,983,816 chance.\n"
     ]
    }
   ],
   "source": [
    "check_historical_occurence([8, 21, 45, 3, 2, 49], winning_numbers)"
   ]
  },
  {
   "cell_type": "code",
   "execution_count": 38,
   "metadata": {},
   "outputs": [
    {
     "name": "stdout",
     "output_type": "stream",
     "text": [
      "The combination [3, 29, 42, 11, 9, 5] has never won the Canadian 6/49 lottery between 1982 and 2018.\n",
      "The probability of winning the 6/49 lottery with numbers: [3, 29, 42, 11, 9, 5] is:\n",
      "0.0000072%. This is a 1 in 13,983,816 chance.\n"
     ]
    }
   ],
   "source": [
    "check_historical_occurence([3,29, 42, 11, 9, 5], winning_numbers)"
   ]
  },
  {
   "cell_type": "code",
   "execution_count": 39,
   "metadata": {},
   "outputs": [
    {
     "name": "stdout",
     "output_type": "stream",
     "text": [
      "The combination [34, 5, 14, 47, 21, 31] has won the Canadian 6/49 lottery 1 times between 1982 and 2018.\n",
      "The probability of winning the 6/49 lottery with numbers: [34, 5, 14, 47, 21, 31] is:\n",
      "0.0000072%. This is a 1 in 13,983,816 chance.\n"
     ]
    }
   ],
   "source": [
    "check_historical_occurence([34, 5, 14, 47, 21, 31], winning_numbers)"
   ]
  },
  {
   "cell_type": "markdown",
   "metadata": {},
   "source": [
    "Above, we created the `check_historical_occurence` function which takes in six numbers from the user and compares them to the winning combinations in the 6/49 Canadian lottery between 1982 and 2018. The function incoorporates the `one_ticket_probability` function in order to include the probability chance of winning if this ticket is played.\n",
    "\n",
    "## Multi-ticket Probability\n",
    "\n",
    "Lottery addicts tend to play more than one ticket on a single drawing, thinking that this might increase their chances of winning significantly. Our purpose is to help them better estimate their chances of winning. Next, we will write a function that will allow the users to calculate the chances of winning for any number of different tickets.\n",
    "\n",
    "We've talked with the engineering team and they gave us the following information:\n",
    "\n",
    "- The user will input the number of different tickets they want to play (without inputting the specific combinations they intend to play).\n",
    "- Our function will see an integer between 1 and 13,983,816 (the maximum number of different tickets).\n",
    "- The function should print information about the probability of winning the big prize depending on the number of different tickets played."
   ]
  },
  {
   "cell_type": "code",
   "execution_count": 40,
   "metadata": {},
   "outputs": [],
   "source": [
    "def multi_ticket_probability(tickets):\n",
    "    \n",
    "    \"\"\"Args:\n",
    "            tickets (int) - number of tickets played\n",
    "        Output:\n",
    "           the probability of winning the big prize if number of tickets is played\n",
    "    \"\"\"   \n",
    "    \n",
    "    total_combinations = combinations(49, 6)\n",
    "    probability = (tickets/total_combinations)*100\n",
    "    \n",
    "    if tickets > 1:\n",
    "        chance = round(total_combinations/tickets)\n",
    "        print(\"The probability of winning the 6/49 lottery by playing {} different tickets is {:.7f}%.\\nThis is a 1 in {:,} chance.\"\n",
    "         .format(tickets, probability, chance))\n",
    "    else:\n",
    "        print(\"The probability of winning the 6/49 lottery by playing a single ticket is {:.7f}%.\\nThis is a 1 in {:,} chance.\"\n",
    "         .format(probability, total_combinations, total_combinations))"
   ]
  },
  {
   "cell_type": "code",
   "execution_count": 41,
   "metadata": {},
   "outputs": [
    {
     "name": "stdout",
     "output_type": "stream",
     "text": [
      "The probability of winning the 6/49 lottery by playing a single ticket is 0.0000072%.\n",
      "This is a 1 in 13,983,816.0 chance.\n",
      "-------------------------\n",
      "The probability of winning the 6/49 lottery by playing 10 different tickets is 0.0000715%.\n",
      "This is a 1 in 1,398,382 chance.\n",
      "-------------------------\n",
      "The probability of winning the 6/49 lottery by playing 100 different tickets is 0.0007151%.\n",
      "This is a 1 in 139,838 chance.\n",
      "-------------------------\n",
      "The probability of winning the 6/49 lottery by playing 10000 different tickets is 0.0715112%.\n",
      "This is a 1 in 1,398 chance.\n",
      "-------------------------\n",
      "The probability of winning the 6/49 lottery by playing 1000000 different tickets is 7.1511238%.\n",
      "This is a 1 in 14 chance.\n",
      "-------------------------\n",
      "The probability of winning the 6/49 lottery by playing 6991908 different tickets is 50.0000000%.\n",
      "This is a 1 in 2 chance.\n",
      "-------------------------\n",
      "The probability of winning the 6/49 lottery by playing 13983816 different tickets is 100.0000000%.\n",
      "This is a 1 in 1 chance.\n",
      "-------------------------\n"
     ]
    }
   ],
   "source": [
    "#Let's test the function:\n",
    "\n",
    "tests = [1, 10, 100, 10000, 1000000, 6991908, 13983816]\n",
    "\n",
    "for test in tests:\n",
    "    multi_ticket_probability(test)\n",
    "    print('-------------------------')"
   ]
  },
  {
   "cell_type": "markdown",
   "metadata": {},
   "source": [
    "## Less Winning Numbers\n",
    "\n",
    "Next, we will write one more function to allow the users to calculate probabilities for two, three, four, or five winning numbers.\n",
    "\n",
    "For extra context, in most 6/49 lotteries there are smaller prizes if a player's ticket match two, three, four, or five of the six numbers drawn. As a consequence, the users might be interested in knowing the probability of having two, three, four, or five winning numbers.\n",
    "\n",
    "These are the engineering details we'll need to be aware of:\n",
    "\n",
    "- Inside the app, the user inputs:\n",
    "    - six different numbers from 1 to 49; and\n",
    "    - an integer between 2 and 5 that represents the number of winning numbers expected\n",
    "- Our function prints information about the probability of having the inputted number of winning numbers."
   ]
  },
  {
   "cell_type": "code",
   "execution_count": 42,
   "metadata": {},
   "outputs": [],
   "source": [
    "def probability_less_6(n):\n",
    "    \n",
    "    \"\"\"Args:\n",
    "                n(int) - an integer between 2 and 5 \n",
    "        Output:\n",
    "                information about the chances of winning depending on the value n.\n",
    "    \"\"\"\n",
    "    \n",
    "    combinations_6_n = combinations(6, n)\n",
    "    combinations_remaining = combinations(43, 6-n)\n",
    "    successful_outcomes = combinations_6_n*combinations_remaining\n",
    "    \n",
    "    total_combinations = combinations(49, 6)\n",
    "    p = successful_outcomes/total_combinations\n",
    "    p_perc = p*100\n",
    "    \n",
    "    chance = round(total_combinations/successful_outcomes)\n",
    "    \n",
    "    print(\"The probability of guessing {} out of 6 numbers is {:.7f}%\\nThis is a 1 in {:,} chance.\"\n",
    "          .format(n, p_perc, chance))"
   ]
  },
  {
   "cell_type": "code",
   "execution_count": 43,
   "metadata": {},
   "outputs": [
    {
     "name": "stdout",
     "output_type": "stream",
     "text": [
      "The probability of guessing 2 out of 6 numbers is 13.2378029%\n",
      "This is a 1 in 8 chance.\n",
      "------------------------------\n",
      "The probability of guessing 3 out of 6 numbers is 1.7650404%\n",
      "This is a 1 in 57 chance.\n",
      "------------------------------\n",
      "The probability of guessing 4 out of 6 numbers is 0.0968620%\n",
      "This is a 1 in 1,032 chance.\n",
      "------------------------------\n",
      "The probability of guessing 5 out of 6 numbers is 0.0018450%\n",
      "This is a 1 in 54,201 chance.\n",
      "------------------------------\n"
     ]
    }
   ],
   "source": [
    "#Let's test the function\n",
    "\n",
    "for x in range(2, 6):\n",
    "    probability_less_6(x)\n",
    "    print('------------------------------')"
   ]
  },
  {
   "cell_type": "markdown",
   "metadata": {
    "collapsed": true
   },
   "source": [
    "## Conclusion\n",
    "\n",
    "In this project, we created the logical functions behind a mobile app aimed at helping lottery addicts quit their addiction by calculating the probability of winning the 6/49 lottery."
   ]
  },
  {
   "cell_type": "code",
   "execution_count": null,
   "metadata": {},
   "outputs": [],
   "source": []
  }
 ],
 "metadata": {
  "kernelspec": {
   "display_name": "Python 3",
   "language": "python",
   "name": "python3"
  },
  "language_info": {
   "codemirror_mode": {
    "name": "ipython",
    "version": 3
   },
   "file_extension": ".py",
   "mimetype": "text/x-python",
   "name": "python",
   "nbconvert_exporter": "python",
   "pygments_lexer": "ipython3",
   "version": "3.7.6"
  }
 },
 "nbformat": 4,
 "nbformat_minor": 4
}
